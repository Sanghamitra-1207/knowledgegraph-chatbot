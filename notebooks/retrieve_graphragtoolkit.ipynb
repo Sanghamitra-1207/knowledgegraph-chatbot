{
 "cells": [
  {
   "cell_type": "code",
   "execution_count": null,
   "id": "29d88df1",
   "metadata": {},
   "outputs": [],
   "source": [
    "from os import environ\n",
    "\n",
    "environ[\"AWS_DEFAULT_REGION\"] = \"eu-central-1\"\n",
    "environ[\"AWS_ACCESS_KEY_ID\"] = \"\"\n",
    "environ[\"AWS_SECRET_ACCESS_KEY\"] = \"\"\n",
    "environ[\"AWS_SESSION_TOKEN\"] = \"\"\n",
    "aws_key = \"\"\n",
    "azure_key = \"\""
   ]
  },
  {
   "cell_type": "code",
   "execution_count": 2,
   "id": "36f162f4",
   "metadata": {},
   "outputs": [],
   "source": [
    "graph_store = \"neptune-graph://g-76pgb4ql43\"\n",
    "vector_store = \"aoss://https://r8mamuo7hin4k3xihz9a.eu-central-1.aoss.amazonaws.com\""
   ]
  },
  {
   "cell_type": "code",
   "execution_count": null,
   "id": "a023bae5",
   "metadata": {},
   "outputs": [
    {
     "name": "stderr",
     "output_type": "stream",
     "text": [
      "None of PyTorch, TensorFlow >= 2.0, or Flax have been found. Models won't be available and only tokenizers, configuration and file/data utilities can be used.\n"
     ]
    },
    {
     "name": "stdout",
     "output_type": "stream",
     "text": [
      "Based on the search results, Alex Kelly has the \"Patient Outcomes\" skill [source_2.1]. Additionally, the search results indicate that an employee (not specifically named) possesses Patient Outcomes skills [source_1.1], but this doesn't identify a specific individual beyond Alex Kelly.\n"
     ]
    }
   ],
   "source": [
    "from graphrag_toolkit.lexical_graph import LexicalGraphQueryEngine\n",
    "from llama_index.llms.openllm import OpenLLM\n",
    "from graphrag_toolkit.lexical_graph import GraphRAGConfig\n",
    "from llama_index.embeddings.openai_like import OpenAILikeEmbedding\n",
    "\n",
    "llm = OpenLLM(model = \"us.anthropic.claude-3-7-sonnet-20250219-v1:0\",\n",
    "        api_base=\"https://us.aigw.galileo.roche.com/v1\",\n",
    "        is_chat_model=True,\n",
    "        api_key=aws_key,\n",
    "        max_tokens=4096)\n",
    "\n",
    "llm_embed = OpenAILikeEmbedding(model_name = \"text-embedding-3-small-1\",\n",
    "        api_base=\"https://us.aigw.galileo.roche.com/v1\",\n",
    "        # is_chat_model=False,\n",
    "        api_key=azure_key,\n",
    "        dimensions=1024\n",
    "        )\n",
    "\n",
    "GraphRAGConfig.extraction_llm = llm\n",
    "GraphRAGConfig.response_llm = llm\n",
    "GraphRAGConfig.embed_model = llm_embed\n",
    "\n",
    "def run_query():\n",
    "        query_engine = LexicalGraphQueryEngine.for_semantic_guided_search(graph_store, vector_store)\n",
    "\n",
    "        response = query_engine.query('''Who has \"Patient Outcomes\" skill?''')\n",
    "\n",
    "        print(response.response)\n",
    "\n",
    "if __name__ == '__main__':\n",
    "        run_query()"
   ]
  }
 ],
 "metadata": {
  "kernelspec": {
   "display_name": ".venv",
   "language": "python",
   "name": "python3"
  },
  "language_info": {
   "codemirror_mode": {
    "name": "ipython",
    "version": 3
   },
   "file_extension": ".py",
   "mimetype": "text/x-python",
   "name": "python",
   "nbconvert_exporter": "python",
   "pygments_lexer": "ipython3",
   "version": "3.10.8"
  }
 },
 "nbformat": 4,
 "nbformat_minor": 5
}
