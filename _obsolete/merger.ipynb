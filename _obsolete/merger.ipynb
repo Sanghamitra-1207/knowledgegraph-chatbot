{
 "cells": [
  {
   "cell_type": "markdown",
   "id": "d77252e9",
   "metadata": {},
   "source": [
    "Enriching expert data with their works/outputs"
   ]
  },
  {
   "cell_type": "code",
   "execution_count": 17,
   "id": "0f78525a",
   "metadata": {},
   "outputs": [],
   "source": [
    "import json\n",
    "import os\n",
    "import shutil\n",
    "\n",
    "experts_cleaned_file = \"experts_cleaned.json\"\n",
    "works_cleaned_file = \"works_cleaned.json\"\n",
    "experts_dir = \"experts\"\n",
    "\n",
    "# Create a directory if it does not exist\n",
    "if os.path.exists(experts_dir):\n",
    "    shutil.rmtree(experts_dir)\n",
    "else:\n",
    "    os.makedirs(experts_dir)\n",
    "\n",
    "experts_cleaned = json.load(open(experts_cleaned_file))\n",
    "works_cleaned = json.load(open(works_cleaned_file))\n",
    "\n",
    "for expert_obj in experts_cleaned:\n",
    "    expert_id = expert_obj[\"Id\"]\n",
    "    expert_title = expert_obj[\"Title\"].replace(\" \", \"_\")\n",
    "    expert_obj[\"works\"] = []\n",
    "    for work_obj in works_cleaned:\n",
    "        if work_obj[\"ExpertId\"] == expert_id:\n",
    "            expert_obj[\"works\"].append(work_obj)\n",
    "    # Save the updated experts_cleaned with works in separate files\n",
    "    expert_file_name = os.path.join(experts_dir, f\"{expert_id}_{expert_title}.json\")\n",
    "    with open(expert_file_name, \"w\", encoding=\"utf-8\") as f:\n",
    "        json.dump(expert_obj, f, indent=2, ensure_ascii=False)\n",
    "\n",
    "# Save the updated experts_cleaned with works in a single file\n",
    "with open(\"experts_with_works_cleaned.json\", \"w\", encoding=\"utf-8\") as f:\n",
    "    json.dump(experts_cleaned, f, indent=2, ensure_ascii=False)"
   ]
  },
  {
   "cell_type": "markdown",
   "id": "dd3a70f8",
   "metadata": {},
   "source": [
    "Checking if there are any experts with no works"
   ]
  },
  {
   "cell_type": "code",
   "execution_count": null,
   "id": "80bcdc24",
   "metadata": {},
   "outputs": [],
   "source": [
    "experts_with_works_cleaned = json.load(\n",
    "    open(\"experts_with_works_cleaned.json\", encoding=\"utf-8\")\n",
    ")\n",
    "\n",
    "for expert_obj in experts_with_works_cleaned:\n",
    "    expert_id = expert_obj[\"Id\"]\n",
    "    works = expert_obj[\"works\"]\n",
    "    if not works:\n",
    "        print(f\"Expert {expert_id} has no works associated with it.\")\n",
    "    else:\n",
    "        None"
   ]
  },
  {
   "cell_type": "markdown",
   "id": "191885e4",
   "metadata": {},
   "source": [
    "Separate experts into files"
   ]
  },
  {
   "cell_type": "code",
   "execution_count": null,
   "id": "58a628e7",
   "metadata": {},
   "outputs": [],
   "source": [
    "import os\n",
    "\n",
    "expert_dir = \"experts\"\n",
    "if not os.path.exists(expert_dir):\n",
    "    os.makedirs(expert_dir)\n",
    "\n",
    "experts_with_works_cleaned = json.load(\n",
    "    open(\"experts_with_works_cleaned.json\", encoding=\"utf-8\")\n",
    ")\n",
    "\n",
    "for expert_obj in experts_with_works_cleaned:\n",
    "    expert_title = expert_obj[\"Title\"]\n",
    "    with open(f\"{expert_dir}/{expert_title}.json\", \"w\", encoding=\"utf-8\") as f:\n",
    "        json.dump(expert_obj, f, indent=2, ensure_ascii=False)"
   ]
  }
 ],
 "metadata": {
  "kernelspec": {
   "display_name": ".venv",
   "language": "python",
   "name": "python3"
  },
  "language_info": {
   "codemirror_mode": {
    "name": "ipython",
    "version": 3
   },
   "file_extension": ".py",
   "mimetype": "text/x-python",
   "name": "python",
   "nbconvert_exporter": "python",
   "pygments_lexer": "ipython3",
   "version": "3.10.8"
  }
 },
 "nbformat": 4,
 "nbformat_minor": 5
}
