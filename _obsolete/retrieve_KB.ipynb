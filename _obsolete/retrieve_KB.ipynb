{
 "cells": [
  {
   "cell_type": "code",
   "execution_count": null,
   "id": "2754f282",
   "metadata": {
    "vscode": {
     "languageId": "shellscript"
    }
   },
   "outputs": [],
   "source": [
    "pip install -q llama-index llama-index-retrievers-bedrock boto3 botocore"
   ]
  },
  {
   "cell_type": "code",
   "execution_count": null,
   "id": "4ab1c630",
   "metadata": {},
   "outputs": [],
   "source": [
    "from os import environ\n",
    "\n",
    "environ[\"AWS_DEFAULT_REGION\"] = \"\"\n",
    "environ[\"AWS_ACCESS_KEY_ID\"] = \"\"\n",
    "environ[\"AWS_SECRET_ACCESS_KEY\"] = \"\"\n",
    "environ[\"AWS_SESSION_TOKEN\"] = \"\"\n",
    "aws_key = \"\""
   ]
  },
  {
   "cell_type": "code",
   "execution_count": 2,
   "id": "e57edab9",
   "metadata": {},
   "outputs": [],
   "source": [
    "questions = [\n",
    "    {\n",
    "        \"question\": \"Which expert has the 'User Acceptance Testing' skill?\",\n",
    "        \"expected_answer\": \"Lee Smith (1043668)\",\n",
    "    },\n",
    "    {\n",
    "        \"question\": \"What languages Lisa Mills speaks?\",\n",
    "        \"expected_answer\": \"German, English (1045114)\",\n",
    "    },\n",
    "    {\n",
    "        \"question\": \"Who wrote 'HEMA Reimbursement Strategy &  Preparation'?\",\n",
    "        \"expected_answer\": \"Amber Logan(172949)\",\n",
    "    },\n",
    "    {\n",
    "        \"question\": \"Who has the 'Breast Cancer' skill?\",\n",
    "        \"expected_answer\": \"Anthony Odonnell(21850), Courtney Spears(125846), Michelle Marshall(127234), Jason Mendoza(163541), Allison Robles(164561), Antonio Smith(169629), Tiffany Smith(171759)\",\n",
    "    },\n",
    "    {\n",
    "        \"question\": \"Who is located in New Zeland?\",\n",
    "        \"expected_answer\": \"Kelly Velasquez(168994), Lee Smith(1043668), Peter Nelson(1083261)\",\n",
    "    },\n",
    "]"
   ]
  },
  {
   "cell_type": "code",
   "execution_count": null,
   "id": "f7d99a33",
   "metadata": {},
   "outputs": [],
   "source": [
    "from llama_index.retrievers.bedrock import AmazonKnowledgeBasesRetriever\n",
    "from langchain_openai import ChatOpenAI\n",
    "\n",
    "KB_ID = \"HVW4QBSXJN\"\n",
    "retrieved_results = []\n",
    "\n",
    "retriever = AmazonKnowledgeBasesRetriever(\n",
    "    knowledge_base_id=KB_ID,\n",
    "    retrieval_config={\n",
    "        \"vectorSearchConfiguration\": {\n",
    "            \"numberOfResults\": 4,\n",
    "        }\n",
    "    },\n",
    ")\n",
    "\n",
    "llm = ChatOpenAI(\n",
    "    model=\"us.anthropic.claude-3-7-sonnet-20250219-v1:0\",\n",
    "    base_url=\"https://us.aigw.galileo.roche.com/v1\",\n",
    "    api_key=aws_key,\n",
    "    temperature=0.0,\n",
    ")\n",
    "\n",
    "for question in questions:\n",
    "    result = retriever.retrieve(question[\"question\"])\n",
    "    llm_response = llm.invoke(f\"\"\"Answer the question based only on the context provided.\n",
    "\n",
    "    Context: {result[0].get_content()}\n",
    "\n",
    "    Question: {question[\"question\"]}\"\"\")\n",
    "\n",
    "    object = {\n",
    "        \"question\": question[\"question\"],\n",
    "        \"expected_answer\": question[\"expected_answer\"],\n",
    "        \"result\": result[0].get_content(),\n",
    "        \"llm_response\": llm_response.content,\n",
    "    }\n",
    "    retrieved_results.append(object)\n",
    "\n",
    "\n",
    "retrieved_results"
   ]
  }
 ],
 "metadata": {
  "kernelspec": {
   "display_name": ".venv",
   "language": "python",
   "name": "python3"
  },
  "language_info": {
   "codemirror_mode": {
    "name": "ipython",
    "version": 3
   },
   "file_extension": ".py",
   "mimetype": "text/x-python",
   "name": "python",
   "nbconvert_exporter": "python",
   "pygments_lexer": "ipython3",
   "version": "3.10.8"
  }
 },
 "nbformat": 4,
 "nbformat_minor": 5
}
